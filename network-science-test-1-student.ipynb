{
 "cells": [
  {
   "cell_type": "markdown",
   "id": "636118cb",
   "metadata": {},
   "source": [
    "\n",
    "# Network Science Exam (70 minutes)\n",
    "\n",
    "**Name:** _________________________  \n",
    "**Student ID:** ___________________  \n",
    "\n",
    "This exam combines **theory**, **practical tasks using NetworkX**, and **interpretation of results** to assess your understanding of key network science concepts. You will answer both coding and interpretive questions.\n",
    "\n",
    "---\n"
   ]
  },
  {
   "cell_type": "code",
   "execution_count": null,
   "id": "7c9cbc4d",
   "metadata": {},
   "outputs": [],
   "source": [
    "# add your imports below\n",
    "\n"
   ]
  },
  {
   "cell_type": "markdown",
   "id": "68d29f60",
   "metadata": {},
   "source": [
    "\n",
    "## Question 1: theoretical questions. \n",
    "1pt each, 3pt\n",
    "\n",
    "1. **Degree Distribution**: Explain what the degree distribution of a network represents and provide an example of a real-world network with a power-law degree distribution.\n",
    "\n",
    "2. **Diameter**: Define the diameter of a network. What does the diameter tell us about the network's structure? Provide an example.\n",
    "\n",
    "3. **Connected Components**: What is the difference between a strongly connected component and a weakly connected component in a directed network? Give an example.\n",
    "\n",
    "Write your answers in the markdown cell below.\n"
   ]
  },
  {
   "cell_type": "markdown",
   "id": "7dfc13a2",
   "metadata": {},
   "source": [
    "**Answer:**\n",
    "\n",
    "1. ...\n",
    "\n",
    "2. ...\n",
    "\n",
    "3. ..."
   ]
  },
  {
   "cell_type": "markdown",
   "id": "9c5cc77e",
   "metadata": {},
   "source": [
    "\n",
    "## Question 2: graph creation and degree analysis. \n",
    "1pt each, 2pt\n",
    "\n",
    "1. Create an **undirected graph** with the following edges:  \n",
    "   (1, 2), (1, 3), (2, 3), (2, 4), (4, 5), (5, 6), (4, 6), (6, 1).  \n",
    "\n",
    "2. **Task**:\n",
    "   - Draw the graph.\n",
    "   - Compute and print the degree of each node.\n",
    "   - Interpret: Which node(s) have the highest degree? What does this mean in terms of connectivity?\n",
    "\n",
    "Write the code below:\n"
   ]
  },
  {
   "cell_type": "code",
   "execution_count": null,
   "id": "9b2fd8b0",
   "metadata": {},
   "outputs": [],
   "source": [
    "\n",
    "# Create an undirected graph\n",
    "\n",
    "\n",
    "# Draw the graph\n",
    "\n",
    "\n",
    "# Compute and print node degrees\n",
    "\n",
    "\n",
    "# Interpretation hint:\n",
    "# Nodes with the highest degree...\n"
   ]
  },
  {
   "cell_type": "markdown",
   "id": "a7a81bd6",
   "metadata": {},
   "source": [
    "\n",
    "## Question 3: shortest paths and APL. \n",
    "1pt each, 3pt\n",
    "\n",
    "1. Compute the **shortest path length** between node 1 and node 5 in the graph from Q2.\n",
    "\n",
    "2. Compute the **average path length (APL)** and the **diameter** of the graph.\n",
    "\n",
    "3. **Interpret**: What do the APL and diameter tell us about the graph's structure?\n",
    "\n",
    "Write your code and answer below:\n"
   ]
  },
  {
   "cell_type": "code",
   "execution_count": null,
   "id": "7dcbd579",
   "metadata": {},
   "outputs": [],
   "source": [
    "\n",
    "# Shortest path length between node 1 and node 5\n",
    "\n",
    "\n",
    "# Compute APL and diameter\n",
    "\n",
    "# Interpretation:\n",
    "# The APL indicates...\n"
   ]
  },
  {
   "cell_type": "markdown",
   "id": "fd3973ee",
   "metadata": {},
   "source": [
    "\n",
    "## Question 4: connected components and trees. \n",
    "1pt each, 3pt\n",
    "\n",
    "1. Verify if the graph from Q2 is connected.\n",
    "2. Create a new **tree graph** with 7 nodes (use `nx.random_tree`) and draw it.\n",
    "3. Compare the structure of the tree to the original graph.\n",
    "\n",
    "Write your code below:\n"
   ]
  },
  {
   "cell_type": "code",
   "execution_count": null,
   "id": "a199e9d8",
   "metadata": {},
   "outputs": [],
   "source": [
    "\n",
    "# Check if the graph is connected\n",
    "\n",
    "\n",
    "# Generate a tree graph with 7 nodes\n",
    "\n",
    "\n",
    "# Compare the tree structure to the original graph\n",
    "# Interpretation:\n",
    "# A tree has...\n"
   ]
  },
  {
   "cell_type": "markdown",
   "id": "a7cabc85",
   "metadata": {},
   "source": [
    "\n",
    "## Question 5: clustering coefficient. \n",
    "1pt each, 3pt\n",
    "\n",
    "1. Compute and print the **clustering coefficient** for each node in the original graph (Q2). \n",
    "\n",
    "2. Compute the **average clustering coefficient** of the graph.\n",
    "\n",
    "3. **Interpret**: What does the clustering coefficient indicate about the network's local structure?\n",
    "\n",
    "Write your code below:\n"
   ]
  },
  {
   "cell_type": "code",
   "execution_count": null,
   "id": "94e3af06",
   "metadata": {},
   "outputs": [],
   "source": [
    "\n",
    "# Compute clustering coefficient for each node\n",
    "\n",
    "\n",
    "# Compute average clustering coefficient\n",
    "\n",
    "\n",
    "# Interpretation:\n",
    "# A higher clustering coefficient indicates...\n"
   ]
  },
  {
   "cell_type": "markdown",
   "id": "5d2b7860",
   "metadata": {},
   "source": [
    "\n",
    "## Question 6: scientific collaboration networks. \n",
    "1pt, each 2pt\n",
    "\n",
    "Based on Newman's 2001 study of **scientific collaboration networks**:\n",
    "\n",
    "1. **Small Worlds**: Summarise what the term \"small world\" means in the context of scientific collaboration networks and describe one key result from the paper that supports this concept.\n",
    "\n",
    "2. **Giant Component**: Define the giant component in a network. Why is its presence significant in the scientific collaboration network?\n",
    "\n",
    "Write your answers below.\n"
   ]
  },
  {
   "cell_type": "markdown",
   "id": "caaa27ad",
   "metadata": {},
   "source": [
    "**Answer:**\n",
    "\n",
    "1. ...\n",
    "\n",
    "2. ..."
   ]
  },
  {
   "cell_type": "markdown",
   "id": "81fee5ea",
   "metadata": {},
   "source": [
    "\n",
    "## Question 7: clustering coefficient interpretation. \n",
    "4pt\n",
    "\n",
    "The paper highlights the importance of **clustering** in scientific collaboration networks.\n",
    "\n",
    "1. Consider the clustering coefficient of the original graph from Question 2 you computed in Question 5 to help you think about this question.\n",
    "\n",
    "2. **Interpretation**: Based on the paper, explain how a high clustering coefficient might reflect real-world collaboration patterns, such as in scientific research.\n",
    "\n",
    "Write your analysis and interpretation below.\n",
    "\n",
    ".  \n",
    ".  \n",
    ".  \n",
    "\n",
    "\n"
   ]
  },
  {
   "cell_type": "markdown",
   "id": "c017c599",
   "metadata": {},
   "source": [
    "---\n",
    "**End of Exam**  \n",
    "\n",
    "Make sure to review your answers and save your notebook before submission."
   ]
  },
  {
   "cell_type": "code",
   "execution_count": null,
   "id": "977fc884",
   "metadata": {},
   "outputs": [],
   "source": []
  }
 ],
 "metadata": {
  "kernelspec": {
   "display_name": "general_3_11",
   "language": "python",
   "name": "python3"
  },
  "language_info": {
   "codemirror_mode": {
    "name": "ipython",
    "version": 3
   },
   "file_extension": ".py",
   "mimetype": "text/x-python",
   "name": "python",
   "nbconvert_exporter": "python",
   "pygments_lexer": "ipython3",
   "version": "3.11.0"
  }
 },
 "nbformat": 4,
 "nbformat_minor": 5
}
